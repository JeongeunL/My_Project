{
 "cells": [
  {
   "cell_type": "markdown",
   "id": "0d024a0f",
   "metadata": {
    "id": "Z-fnLs6O3bsR",
    "papermill": {
     "duration": 0.007431,
     "end_time": "2025-03-07T04:55:07.634257",
     "exception": false,
     "start_time": "2025-03-07T04:55:07.626826",
     "status": "completed"
    },
    "tags": []
   },
   "source": [
    "### 데이터 불러오기\n",
    "\n"
   ]
  },
  {
   "cell_type": "code",
   "execution_count": 1,
   "id": "59e19336",
   "metadata": {
    "execution": {
     "iopub.execute_input": "2025-03-07T04:55:07.648581Z",
     "iopub.status.busy": "2025-03-07T04:55:07.648308Z",
     "iopub.status.idle": "2025-03-07T04:55:11.949725Z",
     "shell.execute_reply": "2025-03-07T04:55:11.948841Z"
    },
    "papermill": {
     "duration": 4.310299,
     "end_time": "2025-03-07T04:55:11.951481",
     "exception": false,
     "start_time": "2025-03-07T04:55:07.641182",
     "status": "completed"
    },
    "tags": []
   },
   "outputs": [
    {
     "name": "stdout",
     "output_type": "stream",
     "text": [
      "Requirement already satisfied: gdown in /usr/local/lib/python3.10/dist-packages (5.2.0)\r\n",
      "Requirement already satisfied: beautifulsoup4 in /usr/local/lib/python3.10/dist-packages (from gdown) (4.12.3)\r\n",
      "Requirement already satisfied: filelock in /usr/local/lib/python3.10/dist-packages (from gdown) (3.17.0)\r\n",
      "Requirement already satisfied: requests[socks] in /usr/local/lib/python3.10/dist-packages (from gdown) (2.32.3)\r\n",
      "Requirement already satisfied: tqdm in /usr/local/lib/python3.10/dist-packages (from gdown) (4.67.1)\r\n",
      "Requirement already satisfied: soupsieve>1.2 in /usr/local/lib/python3.10/dist-packages (from beautifulsoup4->gdown) (2.6)\r\n",
      "Requirement already satisfied: charset-normalizer<4,>=2 in /usr/local/lib/python3.10/dist-packages (from requests[socks]->gdown) (3.4.1)\r\n",
      "Requirement already satisfied: idna<4,>=2.5 in /usr/local/lib/python3.10/dist-packages (from requests[socks]->gdown) (3.10)\r\n",
      "Requirement already satisfied: urllib3<3,>=1.21.1 in /usr/local/lib/python3.10/dist-packages (from requests[socks]->gdown) (2.3.0)\r\n",
      "Requirement already satisfied: certifi>=2017.4.17 in /usr/local/lib/python3.10/dist-packages (from requests[socks]->gdown) (2025.1.31)\r\n",
      "Requirement already satisfied: PySocks!=1.5.7,>=1.5.6 in /usr/local/lib/python3.10/dist-packages (from requests[socks]->gdown) (1.7.1)\r\n"
     ]
    }
   ],
   "source": [
    "!pip install gdown"
   ]
  },
  {
   "cell_type": "code",
   "execution_count": 2,
   "id": "bc7c5c44",
   "metadata": {
    "execution": {
     "iopub.execute_input": "2025-03-07T04:55:11.966894Z",
     "iopub.status.busy": "2025-03-07T04:55:11.966636Z",
     "iopub.status.idle": "2025-03-07T04:55:15.510991Z",
     "shell.execute_reply": "2025-03-07T04:55:15.509920Z"
    },
    "papermill": {
     "duration": 3.553854,
     "end_time": "2025-03-07T04:55:15.512677",
     "exception": false,
     "start_time": "2025-03-07T04:55:11.958823",
     "status": "completed"
    },
    "tags": []
   },
   "outputs": [
    {
     "name": "stdout",
     "output_type": "stream",
     "text": [
      "/usr/local/lib/python3.10/dist-packages/gdown/__main__.py:140: FutureWarning: Option `--id` was deprecated in version 4.3.1 and will be removed in 5.0. You don't need to pass it anymore to use a file ID.\r\n",
      "  warnings.warn(\r\n",
      "Downloading...\r\n",
      "From: https://drive.google.com/uc?id=1_qhmzr8fj3hLu_xo9hu-uzSxhnxn3EFa\r\n",
      "To: /kaggle/working/user_info_format1.csv\r\n",
      "100%|███████████████████████████████████████| 4.55M/4.55M [00:00<00:00, 150MB/s]\r\n"
     ]
    }
   ],
   "source": [
    "!gdown --id 1_qhmzr8fj3hLu_xo9hu-uzSxhnxn3EFa"
   ]
  },
  {
   "cell_type": "code",
   "execution_count": 3,
   "id": "6f225613",
   "metadata": {
    "execution": {
     "iopub.execute_input": "2025-03-07T04:55:15.527899Z",
     "iopub.status.busy": "2025-03-07T04:55:15.527624Z",
     "iopub.status.idle": "2025-03-07T04:55:32.201344Z",
     "shell.execute_reply": "2025-03-07T04:55:32.200529Z"
    },
    "papermill": {
     "duration": 16.682997,
     "end_time": "2025-03-07T04:55:32.202953",
     "exception": false,
     "start_time": "2025-03-07T04:55:15.519956",
     "status": "completed"
    },
    "tags": []
   },
   "outputs": [
    {
     "name": "stdout",
     "output_type": "stream",
     "text": [
      "/usr/local/lib/python3.10/dist-packages/gdown/__main__.py:140: FutureWarning: Option `--id` was deprecated in version 4.3.1 and will be removed in 5.0. You don't need to pass it anymore to use a file ID.\r\n",
      "  warnings.warn(\r\n",
      "Downloading...\r\n",
      "From (original): https://drive.google.com/uc?id=1vYzGVVZ_3DDOB7STfz1t_gXqgNumg5QU\r\n",
      "From (redirected): https://drive.google.com/uc?id=1vYzGVVZ_3DDOB7STfz1t_gXqgNumg5QU&confirm=t&uuid=48c2300f-1c73-4b66-9d2f-16df81c291c4\r\n",
      "To: /kaggle/working/user_log_format1.csv\r\n",
      "100%|███████████████████████████████████████| 1.91G/1.91G [00:13<00:00, 137MB/s]\r\n"
     ]
    }
   ],
   "source": [
    "!gdown --id 1vYzGVVZ_3DDOB7STfz1t_gXqgNumg5QU"
   ]
  },
  {
   "cell_type": "code",
   "execution_count": 4,
   "id": "ecb8bc19",
   "metadata": {
    "execution": {
     "iopub.execute_input": "2025-03-07T04:55:32.227793Z",
     "iopub.status.busy": "2025-03-07T04:55:32.227547Z",
     "iopub.status.idle": "2025-03-07T04:55:36.245151Z",
     "shell.execute_reply": "2025-03-07T04:55:36.244240Z"
    },
    "papermill": {
     "duration": 4.031511,
     "end_time": "2025-03-07T04:55:36.246759",
     "exception": false,
     "start_time": "2025-03-07T04:55:32.215248",
     "status": "completed"
    },
    "tags": []
   },
   "outputs": [
    {
     "name": "stdout",
     "output_type": "stream",
     "text": [
      "/usr/local/lib/python3.10/dist-packages/gdown/__main__.py:140: FutureWarning: Option `--id` was deprecated in version 4.3.1 and will be removed in 5.0. You don't need to pass it anymore to use a file ID.\r\n",
      "  warnings.warn(\r\n",
      "Downloading...\r\n",
      "From: https://drive.google.com/uc?id=160pb6211EzKmePEg7d4qYKG6UyMODbJX\r\n",
      "To: /kaggle/working/train_format1.csv\r\n",
      "100%|███████████████████████████████████████| 3.53M/3.53M [00:00<00:00, 171MB/s]\r\n"
     ]
    }
   ],
   "source": [
    "!gdown --id 160pb6211EzKmePEg7d4qYKG6UyMODbJX"
   ]
  },
  {
   "cell_type": "code",
   "execution_count": 5,
   "id": "9771447a",
   "metadata": {
    "execution": {
     "iopub.execute_input": "2025-03-07T04:55:36.272169Z",
     "iopub.status.busy": "2025-03-07T04:55:36.271900Z",
     "iopub.status.idle": "2025-03-07T04:55:36.276294Z",
     "shell.execute_reply": "2025-03-07T04:55:36.275533Z"
    },
    "papermill": {
     "duration": 0.018698,
     "end_time": "2025-03-07T04:55:36.277571",
     "exception": false,
     "start_time": "2025-03-07T04:55:36.258873",
     "status": "completed"
    },
    "tags": []
   },
   "outputs": [
    {
     "name": "stdout",
     "output_type": "stream",
     "text": [
      "['user_log_format1.csv', 'train_format1.csv', 'user_info_format1.csv', '__notebook__.ipynb']\n"
     ]
    }
   ],
   "source": [
    "import os\n",
    "print(os.listdir(\"/kaggle/working\"))"
   ]
  },
  {
   "cell_type": "code",
   "execution_count": 6,
   "id": "0f3c9528",
   "metadata": {
    "execution": {
     "iopub.execute_input": "2025-03-07T04:55:36.302122Z",
     "iopub.status.busy": "2025-03-07T04:55:36.301919Z",
     "iopub.status.idle": "2025-03-07T04:55:38.399681Z",
     "shell.execute_reply": "2025-03-07T04:55:38.398732Z"
    },
    "id": "jreSXUdE3XrS",
    "papermill": {
     "duration": 2.112176,
     "end_time": "2025-03-07T04:55:38.401347",
     "exception": false,
     "start_time": "2025-03-07T04:55:36.289171",
     "status": "completed"
    },
    "tags": []
   },
   "outputs": [],
   "source": [
    "import numpy as np\n",
    "import pandas as pd\n",
    "import seaborn as sns\n",
    "import matplotlib.pyplot as plt\n",
    "%matplotlib inline"
   ]
  },
  {
   "cell_type": "code",
   "execution_count": 7,
   "id": "b647d1bd",
   "metadata": {
    "execution": {
     "iopub.execute_input": "2025-03-07T04:55:38.426376Z",
     "iopub.status.busy": "2025-03-07T04:55:38.425949Z",
     "iopub.status.idle": "2025-03-07T04:55:38.429704Z",
     "shell.execute_reply": "2025-03-07T04:55:38.428829Z"
    },
    "id": "owxwrwGf3wW_",
    "papermill": {
     "duration": 0.017533,
     "end_time": "2025-03-07T04:55:38.431078",
     "exception": false,
     "start_time": "2025-03-07T04:55:38.413545",
     "status": "completed"
    },
    "tags": []
   },
   "outputs": [],
   "source": [
    "PATH = '/kaggle/working/'"
   ]
  },
  {
   "cell_type": "code",
   "execution_count": 8,
   "id": "dfac35a2",
   "metadata": {
    "execution": {
     "iopub.execute_input": "2025-03-07T04:55:38.456663Z",
     "iopub.status.busy": "2025-03-07T04:55:38.456334Z",
     "iopub.status.idle": "2025-03-07T04:55:38.562978Z",
     "shell.execute_reply": "2025-03-07T04:55:38.562177Z"
    },
    "id": "02OVkp7B30Fb",
    "papermill": {
     "duration": 0.120762,
     "end_time": "2025-03-07T04:55:38.564532",
     "exception": false,
     "start_time": "2025-03-07T04:55:38.443770",
     "status": "completed"
    },
    "tags": []
   },
   "outputs": [],
   "source": [
    "user_info=pd.read_csv(PATH + 'user_info_format1.csv')"
   ]
  },
  {
   "cell_type": "code",
   "execution_count": 9,
   "id": "bd36b8b4",
   "metadata": {
    "execution": {
     "iopub.execute_input": "2025-03-07T04:55:38.589463Z",
     "iopub.status.busy": "2025-03-07T04:55:38.589167Z",
     "iopub.status.idle": "2025-03-07T04:56:03.275941Z",
     "shell.execute_reply": "2025-03-07T04:56:03.274978Z"
    },
    "id": "DEe4fPCH34eg",
    "papermill": {
     "duration": 24.700898,
     "end_time": "2025-03-07T04:56:03.277610",
     "exception": false,
     "start_time": "2025-03-07T04:55:38.576712",
     "status": "completed"
    },
    "tags": []
   },
   "outputs": [],
   "source": [
    "user_log=pd.read_csv(PATH + 'user_log_format1.csv')"
   ]
  },
  {
   "cell_type": "code",
   "execution_count": 10,
   "id": "18c0ee3d",
   "metadata": {
    "execution": {
     "iopub.execute_input": "2025-03-07T04:56:03.301951Z",
     "iopub.status.busy": "2025-03-07T04:56:03.301710Z",
     "iopub.status.idle": "2025-03-07T04:56:03.308372Z",
     "shell.execute_reply": "2025-03-07T04:56:03.307743Z"
    },
    "id": "LSePKyiL36y6",
    "papermill": {
     "duration": 0.020025,
     "end_time": "2025-03-07T04:56:03.309591",
     "exception": false,
     "start_time": "2025-03-07T04:56:03.289566",
     "status": "completed"
    },
    "tags": []
   },
   "outputs": [],
   "source": [
    "user_log.rename(columns={'seller_id':'merchant_id'}, inplace=True)"
   ]
  },
  {
   "cell_type": "code",
   "execution_count": 11,
   "id": "46d2a6db",
   "metadata": {
    "execution": {
     "iopub.execute_input": "2025-03-07T04:56:03.333027Z",
     "iopub.status.busy": "2025-03-07T04:56:03.332812Z",
     "iopub.status.idle": "2025-03-07T04:56:03.410676Z",
     "shell.execute_reply": "2025-03-07T04:56:03.409953Z"
    },
    "id": "QBOyRw9x39xl",
    "papermill": {
     "duration": 0.091226,
     "end_time": "2025-03-07T04:56:03.412198",
     "exception": false,
     "start_time": "2025-03-07T04:56:03.320972",
     "status": "completed"
    },
    "tags": []
   },
   "outputs": [],
   "source": [
    "train_data=pd.read_csv(PATH + 'train_format1.csv')"
   ]
  },
  {
   "cell_type": "markdown",
   "id": "55c2f1c0",
   "metadata": {
    "id": "67SCEQp04SRb",
    "papermill": {
     "duration": 0.011406,
     "end_time": "2025-03-07T04:56:03.435744",
     "exception": false,
     "start_time": "2025-03-07T04:56:03.424338",
     "status": "completed"
    },
    "tags": []
   },
   "source": [
    "###EDA를 위한 데이터 프레임 만들기\n",
    "\n"
   ]
  },
  {
   "cell_type": "code",
   "execution_count": 12,
   "id": "a275028b",
   "metadata": {
    "execution": {
     "iopub.execute_input": "2025-03-07T04:56:03.459720Z",
     "iopub.status.busy": "2025-03-07T04:56:03.459381Z",
     "iopub.status.idle": "2025-03-07T04:56:04.035298Z",
     "shell.execute_reply": "2025-03-07T04:56:04.034347Z"
    },
    "id": "XlXDHsWf4j5D",
    "outputId": "03258ffb-7a9d-46b6-eb31-29e2e22242c6",
    "papermill": {
     "duration": 0.589537,
     "end_time": "2025-03-07T04:56:04.036696",
     "exception": false,
     "start_time": "2025-03-07T04:56:03.447159",
     "status": "completed"
    },
    "tags": []
   },
   "outputs": [
    {
     "data": {
      "text/html": [
       "<div>\n",
       "<style scoped>\n",
       "    .dataframe tbody tr th:only-of-type {\n",
       "        vertical-align: middle;\n",
       "    }\n",
       "\n",
       "    .dataframe tbody tr th {\n",
       "        vertical-align: top;\n",
       "    }\n",
       "\n",
       "    .dataframe thead th {\n",
       "        text-align: right;\n",
       "    }\n",
       "</style>\n",
       "<table border=\"1\" class=\"dataframe\">\n",
       "  <thead>\n",
       "    <tr style=\"text-align: right;\">\n",
       "      <th></th>\n",
       "      <th>user_id</th>\n",
       "      <th>item_id</th>\n",
       "      <th>cat_id</th>\n",
       "      <th>merchant_id</th>\n",
       "      <th>brand_id</th>\n",
       "      <th>time_stamp</th>\n",
       "      <th>action_type</th>\n",
       "    </tr>\n",
       "  </thead>\n",
       "  <tbody>\n",
       "    <tr>\n",
       "      <th>171</th>\n",
       "      <td>328862</td>\n",
       "      <td>406349</td>\n",
       "      <td>1280</td>\n",
       "      <td>2700</td>\n",
       "      <td>5476.0</td>\n",
       "      <td>1111</td>\n",
       "      <td>0</td>\n",
       "    </tr>\n",
       "    <tr>\n",
       "      <th>172</th>\n",
       "      <td>328862</td>\n",
       "      <td>406349</td>\n",
       "      <td>1280</td>\n",
       "      <td>2700</td>\n",
       "      <td>5476.0</td>\n",
       "      <td>1111</td>\n",
       "      <td>0</td>\n",
       "    </tr>\n",
       "    <tr>\n",
       "      <th>173</th>\n",
       "      <td>328862</td>\n",
       "      <td>807126</td>\n",
       "      <td>1181</td>\n",
       "      <td>1963</td>\n",
       "      <td>6109.0</td>\n",
       "      <td>1111</td>\n",
       "      <td>0</td>\n",
       "    </tr>\n",
       "    <tr>\n",
       "      <th>174</th>\n",
       "      <td>328862</td>\n",
       "      <td>406349</td>\n",
       "      <td>1280</td>\n",
       "      <td>2700</td>\n",
       "      <td>5476.0</td>\n",
       "      <td>1111</td>\n",
       "      <td>2</td>\n",
       "    </tr>\n",
       "    <tr>\n",
       "      <th>175</th>\n",
       "      <td>328862</td>\n",
       "      <td>406349</td>\n",
       "      <td>1280</td>\n",
       "      <td>2700</td>\n",
       "      <td>5476.0</td>\n",
       "      <td>1111</td>\n",
       "      <td>0</td>\n",
       "    </tr>\n",
       "  </tbody>\n",
       "</table>\n",
       "</div>"
      ],
      "text/plain": [
       "     user_id  item_id  cat_id  merchant_id  brand_id  time_stamp  action_type\n",
       "171   328862   406349    1280         2700    5476.0        1111            0\n",
       "172   328862   406349    1280         2700    5476.0        1111            0\n",
       "173   328862   807126    1181         1963    6109.0        1111            0\n",
       "174   328862   406349    1280         2700    5476.0        1111            2\n",
       "175   328862   406349    1280         2700    5476.0        1111            0"
      ]
     },
     "execution_count": 12,
     "metadata": {},
     "output_type": "execute_result"
    }
   ],
   "source": [
    "df_black = user_log[user_log['time_stamp']==1111] # BF 데이터\n",
    "df_black.head()"
   ]
  },
  {
   "cell_type": "code",
   "execution_count": 13,
   "id": "dca8fb68",
   "metadata": {
    "execution": {
     "iopub.execute_input": "2025-03-07T04:56:04.061579Z",
     "iopub.status.busy": "2025-03-07T04:56:04.061275Z",
     "iopub.status.idle": "2025-03-07T04:56:05.618752Z",
     "shell.execute_reply": "2025-03-07T04:56:05.617883Z"
    },
    "id": "VPnLXr2G4qR9",
    "outputId": "1346de96-46f8-45a1-f6d7-79e97c26443e",
    "papermill": {
     "duration": 1.571214,
     "end_time": "2025-03-07T04:56:05.620112",
     "exception": false,
     "start_time": "2025-03-07T04:56:04.048898",
     "status": "completed"
    },
    "tags": []
   },
   "outputs": [
    {
     "data": {
      "text/html": [
       "<div>\n",
       "<style scoped>\n",
       "    .dataframe tbody tr th:only-of-type {\n",
       "        vertical-align: middle;\n",
       "    }\n",
       "\n",
       "    .dataframe tbody tr th {\n",
       "        vertical-align: top;\n",
       "    }\n",
       "\n",
       "    .dataframe thead th {\n",
       "        text-align: right;\n",
       "    }\n",
       "</style>\n",
       "<table border=\"1\" class=\"dataframe\">\n",
       "  <thead>\n",
       "    <tr style=\"text-align: right;\">\n",
       "      <th></th>\n",
       "      <th>user_id</th>\n",
       "      <th>item_id</th>\n",
       "      <th>cat_id</th>\n",
       "      <th>merchant_id</th>\n",
       "      <th>brand_id</th>\n",
       "      <th>time_stamp</th>\n",
       "      <th>action_type</th>\n",
       "    </tr>\n",
       "  </thead>\n",
       "  <tbody>\n",
       "    <tr>\n",
       "      <th>0</th>\n",
       "      <td>328862</td>\n",
       "      <td>323294</td>\n",
       "      <td>833</td>\n",
       "      <td>2882</td>\n",
       "      <td>2661.0</td>\n",
       "      <td>829</td>\n",
       "      <td>0</td>\n",
       "    </tr>\n",
       "    <tr>\n",
       "      <th>1</th>\n",
       "      <td>328862</td>\n",
       "      <td>844400</td>\n",
       "      <td>1271</td>\n",
       "      <td>2882</td>\n",
       "      <td>2661.0</td>\n",
       "      <td>829</td>\n",
       "      <td>0</td>\n",
       "    </tr>\n",
       "    <tr>\n",
       "      <th>2</th>\n",
       "      <td>328862</td>\n",
       "      <td>575153</td>\n",
       "      <td>1271</td>\n",
       "      <td>2882</td>\n",
       "      <td>2661.0</td>\n",
       "      <td>829</td>\n",
       "      <td>0</td>\n",
       "    </tr>\n",
       "    <tr>\n",
       "      <th>3</th>\n",
       "      <td>328862</td>\n",
       "      <td>996875</td>\n",
       "      <td>1271</td>\n",
       "      <td>2882</td>\n",
       "      <td>2661.0</td>\n",
       "      <td>829</td>\n",
       "      <td>0</td>\n",
       "    </tr>\n",
       "    <tr>\n",
       "      <th>4</th>\n",
       "      <td>328862</td>\n",
       "      <td>1086186</td>\n",
       "      <td>1271</td>\n",
       "      <td>1253</td>\n",
       "      <td>1049.0</td>\n",
       "      <td>829</td>\n",
       "      <td>0</td>\n",
       "    </tr>\n",
       "  </tbody>\n",
       "</table>\n",
       "</div>"
      ],
      "text/plain": [
       "   user_id  item_id  cat_id  merchant_id  brand_id  time_stamp  action_type\n",
       "0   328862   323294     833         2882    2661.0         829            0\n",
       "1   328862   844400    1271         2882    2661.0         829            0\n",
       "2   328862   575153    1271         2882    2661.0         829            0\n",
       "3   328862   996875    1271         2882    2661.0         829            0\n",
       "4   328862  1086186    1271         1253    1049.0         829            0"
      ]
     },
     "execution_count": 13,
     "metadata": {},
     "output_type": "execute_result"
    }
   ],
   "source": [
    "df_not_black = user_log[user_log['time_stamp']!=1111] # BF를 제외한 데이터\n",
    "df_not_black.head()"
   ]
  },
  {
   "cell_type": "markdown",
   "id": "8172461b",
   "metadata": {
    "id": "peprDQZL5ZWn",
    "papermill": {
     "duration": 0.01153,
     "end_time": "2025-03-07T04:56:05.643672",
     "exception": false,
     "start_time": "2025-03-07T04:56:05.632142",
     "status": "completed"
    },
    "tags": []
   },
   "source": [
    "## EDA"
   ]
  },
  {
   "cell_type": "markdown",
   "id": "4258a278",
   "metadata": {
    "id": "2wxm4Hka47K2",
    "papermill": {
     "duration": 0.011543,
     "end_time": "2025-03-07T04:56:05.666832",
     "exception": false,
     "start_time": "2025-03-07T04:56:05.655289",
     "status": "completed"
    },
    "tags": []
   },
   "source": [
    "### 1) 6개월 간 총 행동 변화 count 추이\n",
    "\n"
   ]
  },
  {
   "cell_type": "code",
   "execution_count": 14,
   "id": "270ddc3c",
   "metadata": {
    "execution": {
     "iopub.execute_input": "2025-03-07T04:56:05.691212Z",
     "iopub.status.busy": "2025-03-07T04:56:05.690968Z",
     "iopub.status.idle": "2025-03-07T04:56:12.509887Z",
     "shell.execute_reply": "2025-03-07T04:56:12.508805Z"
    },
    "id": "3bftiQEI4qF9",
    "outputId": "6b2533d0-4246-430c-c020-975349071814",
    "papermill": {
     "duration": 6.833039,
     "end_time": "2025-03-07T04:56:12.511403",
     "exception": false,
     "start_time": "2025-03-07T04:56:05.678364",
     "status": "completed"
    },
    "tags": []
   },
   "outputs": [
    {
     "name": "stderr",
     "output_type": "stream",
     "text": [
      "<ipython-input-14-dab3a6c04069>:1: SettingWithCopyWarning: \n",
      "A value is trying to be set on a copy of a slice from a DataFrame\n",
      "\n",
      "See the caveats in the documentation: https://pandas.pydata.org/pandas-docs/stable/user_guide/indexing.html#returning-a-view-versus-a-copy\n",
      "  df_not_black.sort_values(by=['time_stamp'], inplace=True)\n"
     ]
    },
    {
     "data": {
      "text/html": [
       "<div>\n",
       "<style scoped>\n",
       "    .dataframe tbody tr th:only-of-type {\n",
       "        vertical-align: middle;\n",
       "    }\n",
       "\n",
       "    .dataframe tbody tr th {\n",
       "        vertical-align: top;\n",
       "    }\n",
       "\n",
       "    .dataframe thead th {\n",
       "        text-align: right;\n",
       "    }\n",
       "</style>\n",
       "<table border=\"1\" class=\"dataframe\">\n",
       "  <thead>\n",
       "    <tr style=\"text-align: right;\">\n",
       "      <th></th>\n",
       "      <th>user_id</th>\n",
       "      <th>item_id</th>\n",
       "      <th>cat_id</th>\n",
       "      <th>merchant_id</th>\n",
       "      <th>brand_id</th>\n",
       "      <th>time_stamp</th>\n",
       "      <th>action_type</th>\n",
       "    </tr>\n",
       "  </thead>\n",
       "  <tbody>\n",
       "    <tr>\n",
       "      <th>47640219</th>\n",
       "      <td>25716</td>\n",
       "      <td>167338</td>\n",
       "      <td>1271</td>\n",
       "      <td>4027</td>\n",
       "      <td>262.0</td>\n",
       "      <td>511</td>\n",
       "      <td>3</td>\n",
       "    </tr>\n",
       "    <tr>\n",
       "      <th>27780275</th>\n",
       "      <td>319048</td>\n",
       "      <td>518629</td>\n",
       "      <td>1505</td>\n",
       "      <td>4700</td>\n",
       "      <td>3526.0</td>\n",
       "      <td>511</td>\n",
       "      <td>3</td>\n",
       "    </tr>\n",
       "    <tr>\n",
       "      <th>1178132</th>\n",
       "      <td>269670</td>\n",
       "      <td>243468</td>\n",
       "      <td>267</td>\n",
       "      <td>1304</td>\n",
       "      <td>2276.0</td>\n",
       "      <td>511</td>\n",
       "      <td>2</td>\n",
       "    </tr>\n",
       "    <tr>\n",
       "      <th>34045862</th>\n",
       "      <td>64182</td>\n",
       "      <td>31900</td>\n",
       "      <td>1271</td>\n",
       "      <td>3745</td>\n",
       "      <td>5375.0</td>\n",
       "      <td>511</td>\n",
       "      <td>3</td>\n",
       "    </tr>\n",
       "    <tr>\n",
       "      <th>34045620</th>\n",
       "      <td>89254</td>\n",
       "      <td>736623</td>\n",
       "      <td>1505</td>\n",
       "      <td>1563</td>\n",
       "      <td>4669.0</td>\n",
       "      <td>511</td>\n",
       "      <td>3</td>\n",
       "    </tr>\n",
       "    <tr>\n",
       "      <th>...</th>\n",
       "      <td>...</td>\n",
       "      <td>...</td>\n",
       "      <td>...</td>\n",
       "      <td>...</td>\n",
       "      <td>...</td>\n",
       "      <td>...</td>\n",
       "      <td>...</td>\n",
       "    </tr>\n",
       "    <tr>\n",
       "      <th>6460004</th>\n",
       "      <td>300578</td>\n",
       "      <td>512425</td>\n",
       "      <td>632</td>\n",
       "      <td>4648</td>\n",
       "      <td>7924.0</td>\n",
       "      <td>1112</td>\n",
       "      <td>0</td>\n",
       "    </tr>\n",
       "    <tr>\n",
       "      <th>1912361</th>\n",
       "      <td>376384</td>\n",
       "      <td>94609</td>\n",
       "      <td>1349</td>\n",
       "      <td>184</td>\n",
       "      <td>1360.0</td>\n",
       "      <td>1112</td>\n",
       "      <td>0</td>\n",
       "    </tr>\n",
       "    <tr>\n",
       "      <th>10414269</th>\n",
       "      <td>178956</td>\n",
       "      <td>1069506</td>\n",
       "      <td>1577</td>\n",
       "      <td>701</td>\n",
       "      <td>5731.0</td>\n",
       "      <td>1112</td>\n",
       "      <td>0</td>\n",
       "    </tr>\n",
       "    <tr>\n",
       "      <th>11532164</th>\n",
       "      <td>304408</td>\n",
       "      <td>353720</td>\n",
       "      <td>1611</td>\n",
       "      <td>375</td>\n",
       "      <td>1164.0</td>\n",
       "      <td>1112</td>\n",
       "      <td>0</td>\n",
       "    </tr>\n",
       "    <tr>\n",
       "      <th>48466505</th>\n",
       "      <td>347390</td>\n",
       "      <td>110595</td>\n",
       "      <td>1208</td>\n",
       "      <td>3250</td>\n",
       "      <td>4360.0</td>\n",
       "      <td>1112</td>\n",
       "      <td>0</td>\n",
       "    </tr>\n",
       "  </tbody>\n",
       "</table>\n",
       "<p>44342697 rows × 7 columns</p>\n",
       "</div>"
      ],
      "text/plain": [
       "          user_id  item_id  cat_id  merchant_id  brand_id  time_stamp  \\\n",
       "47640219    25716   167338    1271         4027     262.0         511   \n",
       "27780275   319048   518629    1505         4700    3526.0         511   \n",
       "1178132    269670   243468     267         1304    2276.0         511   \n",
       "34045862    64182    31900    1271         3745    5375.0         511   \n",
       "34045620    89254   736623    1505         1563    4669.0         511   \n",
       "...           ...      ...     ...          ...       ...         ...   \n",
       "6460004    300578   512425     632         4648    7924.0        1112   \n",
       "1912361    376384    94609    1349          184    1360.0        1112   \n",
       "10414269   178956  1069506    1577          701    5731.0        1112   \n",
       "11532164   304408   353720    1611          375    1164.0        1112   \n",
       "48466505   347390   110595    1208         3250    4360.0        1112   \n",
       "\n",
       "          action_type  \n",
       "47640219            3  \n",
       "27780275            3  \n",
       "1178132             2  \n",
       "34045862            3  \n",
       "34045620            3  \n",
       "...               ...  \n",
       "6460004             0  \n",
       "1912361             0  \n",
       "10414269            0  \n",
       "11532164            0  \n",
       "48466505            0  \n",
       "\n",
       "[44342697 rows x 7 columns]"
      ]
     },
     "execution_count": 14,
     "metadata": {},
     "output_type": "execute_result"
    }
   ],
   "source": [
    "df_not_black.sort_values(by=['time_stamp'], inplace=True)\n",
    "df_not_black"
   ]
  },
  {
   "cell_type": "code",
   "execution_count": 15,
   "id": "f5b6d711",
   "metadata": {
    "execution": {
     "iopub.execute_input": "2025-03-07T04:56:12.537680Z",
     "iopub.status.busy": "2025-03-07T04:56:12.537345Z",
     "iopub.status.idle": "2025-03-07T04:56:12.584985Z",
     "shell.execute_reply": "2025-03-07T04:56:12.583944Z"
    },
    "papermill": {
     "duration": 0.062058,
     "end_time": "2025-03-07T04:56:12.586727",
     "exception": false,
     "start_time": "2025-03-07T04:56:12.524669",
     "status": "completed"
    },
    "tags": []
   },
   "outputs": [],
   "source": [
    "cart = df_not_black[df_not_black[\"action_type\"]==1]"
   ]
  },
  {
   "cell_type": "code",
   "execution_count": 16,
   "id": "5499f642",
   "metadata": {
    "execution": {
     "iopub.execute_input": "2025-03-07T04:56:12.612562Z",
     "iopub.status.busy": "2025-03-07T04:56:12.612248Z",
     "iopub.status.idle": "2025-03-07T04:56:12.988267Z",
     "shell.execute_reply": "2025-03-07T04:56:12.987368Z"
    },
    "papermill": {
     "duration": 0.390417,
     "end_time": "2025-03-07T04:56:12.989699",
     "exception": false,
     "start_time": "2025-03-07T04:56:12.599282",
     "status": "completed"
    },
    "tags": []
   },
   "outputs": [
    {
     "name": "stderr",
     "output_type": "stream",
     "text": [
      "/usr/local/lib/python3.10/dist-packages/seaborn/_oldcore.py:1119: FutureWarning: use_inf_as_na option is deprecated and will be removed in a future version. Convert inf values to NaN before operating instead.\n",
      "  with pd.option_context('mode.use_inf_as_na', True):\n"
     ]
    },
    {
     "data": {
      "image/png": "[encoded data removed]",
      "text/plain": [
       "<Figure size 500x500 with 1 Axes>"
      ]
     },
     "metadata": {},
     "output_type": "display_data"
    }
   ],
   "source": [
    "ct_trend = sns.displot(cart['time_stamp'], bins=9) # 6개월간의 '장바구니 담기' 변화"
   ]
  },
  {
   "cell_type": "code",
   "execution_count": 17,
   "id": "7c686cd1",
   "metadata": {
    "execution": {
     "iopub.execute_input": "2025-03-07T04:56:13.016295Z",
     "iopub.status.busy": "2025-03-07T04:56:13.016003Z",
     "iopub.status.idle": "2025-03-07T04:56:15.253692Z",
     "shell.execute_reply": "2025-03-07T04:56:15.252797Z"
    },
    "papermill": {
     "duration": 2.252259,
     "end_time": "2025-03-07T04:56:15.255126",
     "exception": false,
     "start_time": "2025-03-07T04:56:13.002867",
     "status": "completed"
    },
    "tags": []
   },
   "outputs": [
    {
     "name": "stderr",
     "output_type": "stream",
     "text": [
      "/usr/local/lib/python3.10/dist-packages/seaborn/_oldcore.py:1119: FutureWarning: use_inf_as_na option is deprecated and will be removed in a future version. Convert inf values to NaN before operating instead.\n",
      "  with pd.option_context('mode.use_inf_as_na', True):\n"
     ]
    },
    {
     "data": {
      "image/png": "[encoded data removed]",
      "text/plain": [
       "<Figure size 500x500 with 1 Axes>"
      ]
     },
     "metadata": {},
     "output_type": "display_data"
    }
   ],
   "source": [
    "purchase = df_not_black[df_not_black[\"action_type\"]==3]\n",
    "pc_trend = sns.displot(purchase['time_stamp'], bins=9) # 6개월간의 '구매량' 변화"
   ]
  },
  {
   "cell_type": "code",
   "execution_count": 18,
   "id": "125698ee",
   "metadata": {
    "execution": {
     "iopub.execute_input": "2025-03-07T04:56:15.282208Z",
     "iopub.status.busy": "2025-03-07T04:56:15.281936Z",
     "iopub.status.idle": "2025-03-07T04:56:17.383616Z",
     "shell.execute_reply": "2025-03-07T04:56:17.382658Z"
    },
    "papermill": {
     "duration": 2.116707,
     "end_time": "2025-03-07T04:56:17.385049",
     "exception": false,
     "start_time": "2025-03-07T04:56:15.268342",
     "status": "completed"
    },
    "tags": []
   },
   "outputs": [
    {
     "name": "stderr",
     "output_type": "stream",
     "text": [
      "/usr/local/lib/python3.10/dist-packages/seaborn/_oldcore.py:1119: FutureWarning: use_inf_as_na option is deprecated and will be removed in a future version. Convert inf values to NaN before operating instead.\n",
      "  with pd.option_context('mode.use_inf_as_na', True):\n"
     ]
    },
    {
     "data": {
      "image/png": "[encoded data removed]",
      "text/plain": [
       "<Figure size 500x500 with 1 Axes>"
      ]
     },
     "metadata": {},
     "output_type": "display_data"
    }
   ],
   "source": [
    "like = df_not_black[df_not_black[\"action_type\"]==3]\n",
    "lk_trend = sns.displot(like['time_stamp'], bins=9) # 6개월간의 '찜하기' 변화"
   ]
  },
  {
   "cell_type": "code",
   "execution_count": 19,
   "id": "5ca3b0e2",
   "metadata": {
    "execution": {
     "iopub.execute_input": "2025-03-07T04:56:17.413368Z",
     "iopub.status.busy": "2025-03-07T04:56:17.413071Z",
     "iopub.status.idle": "2025-03-07T04:56:44.103326Z",
     "shell.execute_reply": "2025-03-07T04:56:44.102444Z"
    },
    "id": "EWR_jRx75oL2",
    "papermill": {
     "duration": 26.705892,
     "end_time": "2025-03-07T04:56:44.104812",
     "exception": false,
     "start_time": "2025-03-07T04:56:17.398920",
     "status": "completed"
    },
    "tags": []
   },
   "outputs": [
    {
     "name": "stderr",
     "output_type": "stream",
     "text": [
      "/usr/local/lib/python3.10/dist-packages/seaborn/_oldcore.py:1119: FutureWarning: use_inf_as_na option is deprecated and will be removed in a future version. Convert inf values to NaN before operating instead.\n",
      "  with pd.option_context('mode.use_inf_as_na', True):\n"
     ]
    },
    {
     "data": {
      "image/png": "[encoded data removed]",
      "text/plain": [
       "<Figure size 500x500 with 1 Axes>"
      ]
     },
     "metadata": {},
     "output_type": "display_data"
    }
   ],
   "source": [
    "trend = sns.displot(df_not_black['time_stamp'], bins=9) # 6개월간의 '총 행동량' 변화"
   ]
  },
  {
   "cell_type": "markdown",
   "id": "4874c713",
   "metadata": {
    "id": "d0R8mbvI5t7V",
    "papermill": {
     "duration": 0.013421,
     "end_time": "2025-03-07T04:56:44.133017",
     "exception": false,
     "start_time": "2025-03-07T04:56:44.119596",
     "status": "completed"
    },
    "tags": []
   },
   "source": [
    "### 2) Black Friday 시즌 추정"
   ]
  },
  {
   "cell_type": "code",
   "execution_count": 20,
   "id": "b4f29049",
   "metadata": {
    "execution": {
     "iopub.execute_input": "2025-03-07T04:56:44.161547Z",
     "iopub.status.busy": "2025-03-07T04:56:44.161111Z",
     "iopub.status.idle": "2025-03-07T04:56:44.801895Z",
     "shell.execute_reply": "2025-03-07T04:56:44.801037Z"
    },
    "id": "Zh847zZX6Hm6",
    "papermill": {
     "duration": 0.656546,
     "end_time": "2025-03-07T04:56:44.803162",
     "exception": false,
     "start_time": "2025-03-07T04:56:44.146616",
     "status": "completed"
    },
    "tags": []
   },
   "outputs": [
    {
     "name": "stdout",
     "output_type": "stream",
     "text": [
      "q1-1.5*iqr: 49747\n",
      "q3+1.5*iqr: 350411\n"
     ]
    }
   ],
   "source": [
    "## 이상치 제거\n",
    "# IQR 구하기\n",
    "q1=df_not_black['time_stamp'].value_counts().quantile(0.25)\n",
    "q2=df_not_black['time_stamp'].value_counts().quantile(0.5)\n",
    "q3=df_not_black['time_stamp'].value_counts().quantile(0.75)\n",
    "iqr=q3-q1\n",
    "low_outlier=q1-1.5*iqr\n",
    "high_outlier= q3+1.5*iqr\n",
    "print('q1-1.5*iqr: %d' % low_outlier)\n",
    "print('q3+1.5*iqr: %d' % high_outlier)"
   ]
  },
  {
   "cell_type": "code",
   "execution_count": 21,
   "id": "f15adeee",
   "metadata": {
    "execution": {
     "iopub.execute_input": "2025-03-07T04:56:44.831562Z",
     "iopub.status.busy": "2025-03-07T04:56:44.831291Z",
     "iopub.status.idle": "2025-03-07T04:56:45.046263Z",
     "shell.execute_reply": "2025-03-07T04:56:45.045572Z"
    },
    "id": "_8M0l9rI6Kmu",
    "papermill": {
     "duration": 0.230482,
     "end_time": "2025-03-07T04:56:45.047648",
     "exception": false,
     "start_time": "2025-03-07T04:56:44.817166",
     "status": "completed"
    },
    "tags": []
   },
   "outputs": [],
   "source": [
    "df_not_black_count = df_not_black['time_stamp'].value_counts().sort_index()\n",
    "df_not_black_count=df_not_black_count.to_frame()\n",
    "df_not_black_count=df_not_black_count.reset_index()"
   ]
  },
  {
   "cell_type": "code",
   "execution_count": 22,
   "id": "8b2439e4",
   "metadata": {
    "execution": {
     "iopub.execute_input": "2025-03-07T04:56:45.076999Z",
     "iopub.status.busy": "2025-03-07T04:56:45.076729Z",
     "iopub.status.idle": "2025-03-07T04:56:45.084442Z",
     "shell.execute_reply": "2025-03-07T04:56:45.083507Z"
    },
    "papermill": {
     "duration": 0.023772,
     "end_time": "2025-03-07T04:56:45.085707",
     "exception": false,
     "start_time": "2025-03-07T04:56:45.061935",
     "status": "completed"
    },
    "tags": []
   },
   "outputs": [
    {
     "data": {
      "text/html": [
       "<div>\n",
       "<style scoped>\n",
       "    .dataframe tbody tr th:only-of-type {\n",
       "        vertical-align: middle;\n",
       "    }\n",
       "\n",
       "    .dataframe tbody tr th {\n",
       "        vertical-align: top;\n",
       "    }\n",
       "\n",
       "    .dataframe thead th {\n",
       "        text-align: right;\n",
       "    }\n",
       "</style>\n",
       "<table border=\"1\" class=\"dataframe\">\n",
       "  <thead>\n",
       "    <tr style=\"text-align: right;\">\n",
       "      <th></th>\n",
       "      <th>time_stamp</th>\n",
       "      <th>count</th>\n",
       "    </tr>\n",
       "  </thead>\n",
       "  <tbody>\n",
       "    <tr>\n",
       "      <th>0</th>\n",
       "      <td>511</td>\n",
       "      <td>20044</td>\n",
       "    </tr>\n",
       "    <tr>\n",
       "      <th>1</th>\n",
       "      <td>512</td>\n",
       "      <td>20704</td>\n",
       "    </tr>\n",
       "    <tr>\n",
       "      <th>2</th>\n",
       "      <td>513</td>\n",
       "      <td>23730</td>\n",
       "    </tr>\n",
       "    <tr>\n",
       "      <th>3</th>\n",
       "      <td>514</td>\n",
       "      <td>24388</td>\n",
       "    </tr>\n",
       "    <tr>\n",
       "      <th>4</th>\n",
       "      <td>515</td>\n",
       "      <td>24113</td>\n",
       "    </tr>\n",
       "    <tr>\n",
       "      <th>...</th>\n",
       "      <td>...</td>\n",
       "      <td>...</td>\n",
       "    </tr>\n",
       "    <tr>\n",
       "      <th>180</th>\n",
       "      <td>1107</td>\n",
       "      <td>857846</td>\n",
       "    </tr>\n",
       "    <tr>\n",
       "      <th>181</th>\n",
       "      <td>1108</td>\n",
       "      <td>968099</td>\n",
       "    </tr>\n",
       "    <tr>\n",
       "      <th>182</th>\n",
       "      <td>1109</td>\n",
       "      <td>1207273</td>\n",
       "    </tr>\n",
       "    <tr>\n",
       "      <th>183</th>\n",
       "      <td>1110</td>\n",
       "      <td>2940826</td>\n",
       "    </tr>\n",
       "    <tr>\n",
       "      <th>184</th>\n",
       "      <td>1112</td>\n",
       "      <td>46</td>\n",
       "    </tr>\n",
       "  </tbody>\n",
       "</table>\n",
       "<p>185 rows × 2 columns</p>\n",
       "</div>"
      ],
      "text/plain": [
       "     time_stamp    count\n",
       "0           511    20044\n",
       "1           512    20704\n",
       "2           513    23730\n",
       "3           514    24388\n",
       "4           515    24113\n",
       "..          ...      ...\n",
       "180        1107   857846\n",
       "181        1108   968099\n",
       "182        1109  1207273\n",
       "183        1110  2940826\n",
       "184        1112       46\n",
       "\n",
       "[185 rows x 2 columns]"
      ]
     },
     "execution_count": 22,
     "metadata": {},
     "output_type": "execute_result"
    }
   ],
   "source": [
    "df_not_black_count"
   ]
  },
  {
   "cell_type": "code",
   "execution_count": 23,
   "id": "6e6bd8db",
   "metadata": {
    "execution": {
     "iopub.execute_input": "2025-03-07T04:56:45.115087Z",
     "iopub.status.busy": "2025-03-07T04:56:45.114792Z",
     "iopub.status.idle": "2025-03-07T04:56:45.118890Z",
     "shell.execute_reply": "2025-03-07T04:56:45.117979Z"
    },
    "id": "wXZZFNh56MBA",
    "papermill": {
     "duration": 0.020287,
     "end_time": "2025-03-07T04:56:45.120168",
     "exception": false,
     "start_time": "2025-03-07T04:56:45.099881",
     "status": "completed"
    },
    "tags": []
   },
   "outputs": [],
   "source": [
    "df_not_black_count.rename(columns={'time_stamp':'date'}, inplace=True)"
   ]
  },
  {
   "cell_type": "markdown",
   "id": "14bfc369",
   "metadata": {
    "id": "_rLKblN06UAd",
    "papermill": {
     "duration": 0.013784,
     "end_time": "2025-03-07T04:56:45.148634",
     "exception": false,
     "start_time": "2025-03-07T04:56:45.134850",
     "status": "completed"
    },
    "tags": []
   },
   "source": [
    "블랙프라이데이 세일 시즌이 10/28 ~ 11/11인 것으로 추정된다."
   ]
  },
  {
   "cell_type": "code",
   "execution_count": 24,
   "id": "ecb0afac",
   "metadata": {
    "execution": {
     "iopub.execute_input": "2025-03-07T04:56:45.177545Z",
     "iopub.status.busy": "2025-03-07T04:56:45.177209Z",
     "iopub.status.idle": "2025-03-07T04:56:45.184939Z",
     "shell.execute_reply": "2025-03-07T04:56:45.184282Z"
    },
    "papermill": {
     "duration": 0.023625,
     "end_time": "2025-03-07T04:56:45.186146",
     "exception": false,
     "start_time": "2025-03-07T04:56:45.162521",
     "status": "completed"
    },
    "tags": []
   },
   "outputs": [
    {
     "data": {
      "text/html": [
       "<div>\n",
       "<style scoped>\n",
       "    .dataframe tbody tr th:only-of-type {\n",
       "        vertical-align: middle;\n",
       "    }\n",
       "\n",
       "    .dataframe tbody tr th {\n",
       "        vertical-align: top;\n",
       "    }\n",
       "\n",
       "    .dataframe thead th {\n",
       "        text-align: right;\n",
       "    }\n",
       "</style>\n",
       "<table border=\"1\" class=\"dataframe\">\n",
       "  <thead>\n",
       "    <tr style=\"text-align: right;\">\n",
       "      <th></th>\n",
       "      <th>date</th>\n",
       "      <th>count</th>\n",
       "    </tr>\n",
       "  </thead>\n",
       "  <tbody>\n",
       "    <tr>\n",
       "      <th>0</th>\n",
       "      <td>511</td>\n",
       "      <td>20044</td>\n",
       "    </tr>\n",
       "    <tr>\n",
       "      <th>1</th>\n",
       "      <td>512</td>\n",
       "      <td>20704</td>\n",
       "    </tr>\n",
       "    <tr>\n",
       "      <th>2</th>\n",
       "      <td>513</td>\n",
       "      <td>23730</td>\n",
       "    </tr>\n",
       "    <tr>\n",
       "      <th>3</th>\n",
       "      <td>514</td>\n",
       "      <td>24388</td>\n",
       "    </tr>\n",
       "    <tr>\n",
       "      <th>4</th>\n",
       "      <td>515</td>\n",
       "      <td>24113</td>\n",
       "    </tr>\n",
       "    <tr>\n",
       "      <th>...</th>\n",
       "      <td>...</td>\n",
       "      <td>...</td>\n",
       "    </tr>\n",
       "    <tr>\n",
       "      <th>180</th>\n",
       "      <td>1107</td>\n",
       "      <td>857846</td>\n",
       "    </tr>\n",
       "    <tr>\n",
       "      <th>181</th>\n",
       "      <td>1108</td>\n",
       "      <td>968099</td>\n",
       "    </tr>\n",
       "    <tr>\n",
       "      <th>182</th>\n",
       "      <td>1109</td>\n",
       "      <td>1207273</td>\n",
       "    </tr>\n",
       "    <tr>\n",
       "      <th>183</th>\n",
       "      <td>1110</td>\n",
       "      <td>2940826</td>\n",
       "    </tr>\n",
       "    <tr>\n",
       "      <th>184</th>\n",
       "      <td>1112</td>\n",
       "      <td>46</td>\n",
       "    </tr>\n",
       "  </tbody>\n",
       "</table>\n",
       "<p>185 rows × 2 columns</p>\n",
       "</div>"
      ],
      "text/plain": [
       "     date    count\n",
       "0     511    20044\n",
       "1     512    20704\n",
       "2     513    23730\n",
       "3     514    24388\n",
       "4     515    24113\n",
       "..    ...      ...\n",
       "180  1107   857846\n",
       "181  1108   968099\n",
       "182  1109  1207273\n",
       "183  1110  2940826\n",
       "184  1112       46\n",
       "\n",
       "[185 rows x 2 columns]"
      ]
     },
     "execution_count": 24,
     "metadata": {},
     "output_type": "execute_result"
    }
   ],
   "source": [
    "df_not_black_count"
   ]
  },
  {
   "cell_type": "code",
   "execution_count": 25,
   "id": "7430a122",
   "metadata": {
    "execution": {
     "iopub.execute_input": "2025-03-07T04:56:45.215322Z",
     "iopub.status.busy": "2025-03-07T04:56:45.215104Z",
     "iopub.status.idle": "2025-03-07T04:56:45.221740Z",
     "shell.execute_reply": "2025-03-07T04:56:45.220917Z"
    },
    "id": "qf5kMBHh6OhI",
    "papermill": {
     "duration": 0.022345,
     "end_time": "2025-03-07T04:56:45.223028",
     "exception": false,
     "start_time": "2025-03-07T04:56:45.200683",
     "status": "completed"
    },
    "tags": []
   },
   "outputs": [
    {
     "data": {
      "text/plain": [
       "[511,\n",
       " 512,\n",
       " 513,\n",
       " 514,\n",
       " 515,\n",
       " 516,\n",
       " 517,\n",
       " 518,\n",
       " 519,\n",
       " 1112,\n",
       " 626,\n",
       " 909,\n",
       " 1028,\n",
       " 1029,\n",
       " 1030,\n",
       " 1031,\n",
       " 1101,\n",
       " 1102,\n",
       " 1103,\n",
       " 1104,\n",
       " 1105,\n",
       " 1106,\n",
       " 1107,\n",
       " 1108,\n",
       " 1109,\n",
       " 1110]"
      ]
     },
     "execution_count": 25,
     "metadata": {},
     "output_type": "execute_result"
    }
   ],
   "source": [
    "a_low=df_not_black_count[df_not_black_count['count']<=low_outlier]\n",
    "a_high=df_not_black_count[df_not_black_count['count']>=high_outlier]\n",
    "a_low=a_low['date'].to_list()\n",
    "a_high=a_high['date'].to_list()\n",
    "a_outlier=a_low+a_high\n",
    "a_outlier"
   ]
  },
  {
   "cell_type": "markdown",
   "id": "459bf327",
   "metadata": {
    "id": "0GFw5cmp6esR",
    "papermill": {
     "duration": 0.013898,
     "end_time": "2025-03-07T04:56:45.251726",
     "exception": false,
     "start_time": "2025-03-07T04:56:45.237828",
     "status": "completed"
    },
    "tags": []
   },
   "source": [
    "10월 28일부터 action type count가 급격히 증가하여, 11월 12일에 매우 감소 (평상시보다 count 수가 훨씬 낮다)"
   ]
  },
  {
   "cell_type": "code",
   "execution_count": 26,
   "id": "4d774f15",
   "metadata": {
    "execution": {
     "iopub.execute_input": "2025-03-07T04:56:45.280840Z",
     "iopub.status.busy": "2025-03-07T04:56:45.280574Z",
     "iopub.status.idle": "2025-03-07T04:56:45.287397Z",
     "shell.execute_reply": "2025-03-07T04:56:45.286625Z"
    },
    "id": "mnSMfgCI6bnQ",
    "papermill": {
     "duration": 0.022888,
     "end_time": "2025-03-07T04:56:45.288749",
     "exception": false,
     "start_time": "2025-03-07T04:56:45.265861",
     "status": "completed"
    },
    "tags": []
   },
   "outputs": [
    {
     "data": {
      "text/html": [
       "<div>\n",
       "<style scoped>\n",
       "    .dataframe tbody tr th:only-of-type {\n",
       "        vertical-align: middle;\n",
       "    }\n",
       "\n",
       "    .dataframe tbody tr th {\n",
       "        vertical-align: top;\n",
       "    }\n",
       "\n",
       "    .dataframe thead th {\n",
       "        text-align: right;\n",
       "    }\n",
       "</style>\n",
       "<table border=\"1\" class=\"dataframe\">\n",
       "  <thead>\n",
       "    <tr style=\"text-align: right;\">\n",
       "      <th></th>\n",
       "      <th>date</th>\n",
       "      <th>count</th>\n",
       "    </tr>\n",
       "  </thead>\n",
       "  <tbody>\n",
       "    <tr>\n",
       "      <th>170</th>\n",
       "      <td>1028</td>\n",
       "      <td>368445</td>\n",
       "    </tr>\n",
       "  </tbody>\n",
       "</table>\n",
       "</div>"
      ],
      "text/plain": [
       "     date   count\n",
       "170  1028  368445"
      ]
     },
     "execution_count": 26,
     "metadata": {},
     "output_type": "execute_result"
    }
   ],
   "source": [
    "df_not_black_count[df_not_black_count['date']==1028]"
   ]
  },
  {
   "cell_type": "code",
   "execution_count": 27,
   "id": "03c46dae",
   "metadata": {
    "execution": {
     "iopub.execute_input": "2025-03-07T04:56:45.318827Z",
     "iopub.status.busy": "2025-03-07T04:56:45.318608Z",
     "iopub.status.idle": "2025-03-07T04:56:45.325063Z",
     "shell.execute_reply": "2025-03-07T04:56:45.324307Z"
    },
    "id": "dyhXHhzK6dtT",
    "papermill": {
     "duration": 0.022868,
     "end_time": "2025-03-07T04:56:45.326259",
     "exception": false,
     "start_time": "2025-03-07T04:56:45.303391",
     "status": "completed"
    },
    "tags": []
   },
   "outputs": [
    {
     "data": {
      "text/html": [
       "<div>\n",
       "<style scoped>\n",
       "    .dataframe tbody tr th:only-of-type {\n",
       "        vertical-align: middle;\n",
       "    }\n",
       "\n",
       "    .dataframe tbody tr th {\n",
       "        vertical-align: top;\n",
       "    }\n",
       "\n",
       "    .dataframe thead th {\n",
       "        text-align: right;\n",
       "    }\n",
       "</style>\n",
       "<table border=\"1\" class=\"dataframe\">\n",
       "  <thead>\n",
       "    <tr style=\"text-align: right;\">\n",
       "      <th></th>\n",
       "      <th>date</th>\n",
       "      <th>count</th>\n",
       "    </tr>\n",
       "  </thead>\n",
       "  <tbody>\n",
       "    <tr>\n",
       "      <th>184</th>\n",
       "      <td>1112</td>\n",
       "      <td>46</td>\n",
       "    </tr>\n",
       "  </tbody>\n",
       "</table>\n",
       "</div>"
      ],
      "text/plain": [
       "     date  count\n",
       "184  1112     46"
      ]
     },
     "execution_count": 27,
     "metadata": {},
     "output_type": "execute_result"
    }
   ],
   "source": [
    "df_not_black_count[df_not_black_count['date']==1112]"
   ]
  },
  {
   "cell_type": "markdown",
   "id": "36b01d6f",
   "metadata": {
    "id": "Sbdgrrtd7wBl",
    "papermill": {
     "duration": 0.014037,
     "end_time": "2025-03-07T04:56:45.355162",
     "exception": false,
     "start_time": "2025-03-07T04:56:45.341125",
     "status": "completed"
    },
    "tags": []
   },
   "source": [
    "### 3) Black Friday와 평상시의 action type별 count"
   ]
  },
  {
   "cell_type": "markdown",
   "id": "5844efad",
   "metadata": {
    "id": "MMzlKVsp8b43",
    "papermill": {
     "duration": 0.013983,
     "end_time": "2025-03-07T04:56:45.383376",
     "exception": false,
     "start_time": "2025-03-07T04:56:45.369393",
     "status": "completed"
    },
    "tags": []
   },
   "source": [
    "평상시 데이터에서 총 30일 랜덤 추출"
   ]
  },
  {
   "cell_type": "code",
   "execution_count": 28,
   "id": "c91467fa",
   "metadata": {
    "execution": {
     "iopub.execute_input": "2025-03-07T04:56:45.412771Z",
     "iopub.status.busy": "2025-03-07T04:56:45.412518Z",
     "iopub.status.idle": "2025-03-07T04:56:46.249844Z",
     "shell.execute_reply": "2025-03-07T04:56:46.248706Z"
    },
    "id": "f2HeDwsC6vbY",
    "papermill": {
     "duration": 0.853882,
     "end_time": "2025-03-07T04:56:46.251545",
     "exception": false,
     "start_time": "2025-03-07T04:56:45.397663",
     "status": "completed"
    },
    "tags": []
   },
   "outputs": [],
   "source": [
    "df_noout_noblack=df_not_black.copy()"
   ]
  },
  {
   "cell_type": "code",
   "execution_count": 29,
   "id": "a919b529",
   "metadata": {
    "execution": {
     "iopub.execute_input": "2025-03-07T04:56:46.281372Z",
     "iopub.status.busy": "2025-03-07T04:56:46.281133Z",
     "iopub.status.idle": "2025-03-07T04:56:47.731065Z",
     "shell.execute_reply": "2025-03-07T04:56:47.730295Z"
    },
    "id": "w2DOEkY36v24",
    "papermill": {
     "duration": 1.466609,
     "end_time": "2025-03-07T04:56:47.732889",
     "exception": false,
     "start_time": "2025-03-07T04:56:46.266280",
     "status": "completed"
    },
    "tags": []
   },
   "outputs": [],
   "source": [
    "df_noout_noblack = df_not_black[~df_not_black['time_stamp'].isin(a_outlier)]\n",
    "# outlier 제거한 데이터프레임 생성"
   ]
  },
  {
   "cell_type": "code",
   "execution_count": 30,
   "id": "76b228db",
   "metadata": {
    "execution": {
     "iopub.execute_input": "2025-03-07T04:56:47.768502Z",
     "iopub.status.busy": "2025-03-07T04:56:47.768135Z",
     "iopub.status.idle": "2025-03-07T04:56:49.326701Z",
     "shell.execute_reply": "2025-03-07T04:56:49.325518Z"
    },
    "id": "hmObxVa16p1r",
    "papermill": {
     "duration": 1.577632,
     "end_time": "2025-03-07T04:56:49.328084",
     "exception": false,
     "start_time": "2025-03-07T04:56:47.750452",
     "status": "completed"
    },
    "tags": []
   },
   "outputs": [
    {
     "name": "stdout",
     "output_type": "stream",
     "text": [
      "911\n",
      "action_type\n",
      "0    187721\n",
      "1       165\n",
      "2     12628\n",
      "3     13177\n",
      "Name: count, dtype: int64\n"
     ]
    }
   ],
   "source": [
    "rand_time = df_noout_noblack['time_stamp'].sample(1).iloc[0] # 특정 날짜 랜덤 추출 (BF 제외)\n",
    "sample_df = df_noout_noblack[df_noout_noblack['time_stamp']==rand_time] # 특정 날짜의 데이터만 추출\n",
    "print(rand_time)\n",
    "print(sample_df['action_type'].value_counts().sort_index())"
   ]
  },
  {
   "cell_type": "code",
   "execution_count": 31,
   "id": "e00f1632",
   "metadata": {
    "execution": {
     "iopub.execute_input": "2025-03-07T04:56:49.364896Z",
     "iopub.status.busy": "2025-03-07T04:56:49.364582Z",
     "iopub.status.idle": "2025-03-07T04:57:35.843021Z",
     "shell.execute_reply": "2025-03-07T04:57:35.842198Z"
    },
    "id": "-3yrlM8e6r8g",
    "papermill": {
     "duration": 46.514949,
     "end_time": "2025-03-07T04:57:35.860123",
     "exception": false,
     "start_time": "2025-03-07T04:56:49.345174",
     "status": "completed"
    },
    "tags": []
   },
   "outputs": [
    {
     "name": "stdout",
     "output_type": "stream",
     "text": [
      "avg_0: 180547.8\n",
      "avg_1: 127.06666666666666\n",
      "avg_2: 11009.1\n",
      "avg_3: 11983.566666666668\n"
     ]
    }
   ],
   "source": [
    "# 딕셔너리 생성\n",
    "action_type_counts = {0: 0, 1: 0, 2: 0, 3: 0}\n",
    "\n",
    "# 반복 횟수\n",
    "num_iterations = 30\n",
    "\n",
    "for i in range(num_iterations):\n",
    "    # 특정 날짜 랜덤하게 뽑기\n",
    "    rand_time = df_noout_noblack['time_stamp'].sample(1).iloc[0]\n",
    "\n",
    "    # 특정 날짜의 데이터만 추출\n",
    "    sample_df = df_noout_noblack[df_noout_noblack['time_stamp'] == rand_time]\n",
    "\n",
    "    # 특정 날짜의 action_type 빈도 수 측정\n",
    "    type_counts = sample_df['action_type'].value_counts().sort_index().to_dict()\n",
    "\n",
    "    # Update the cumulative counts\n",
    "    for action_type, count in type_counts.items():\n",
    "        action_type_counts[action_type] += count\n",
    "\n",
    "# Calculate and print the average counts\n",
    "for action_type, cumulative_count in action_type_counts.items():\n",
    "    avg_count = cumulative_count / num_iterations\n",
    "    print(f'avg_{action_type}: {avg_count}')"
   ]
  },
  {
   "cell_type": "markdown",
   "id": "b10ba749",
   "metadata": {
    "id": "gFb1wOEr7nFt",
    "papermill": {
     "duration": 0.015119,
     "end_time": "2025-03-07T04:57:35.889959",
     "exception": false,
     "start_time": "2025-03-07T04:57:35.874840",
     "status": "completed"
    },
    "tags": []
   },
   "source": [
    "Black Friday의 action type별 count plot"
   ]
  },
  {
   "cell_type": "code",
   "execution_count": 32,
   "id": "6c6d88ac",
   "metadata": {
    "execution": {
     "iopub.execute_input": "2025-03-07T04:57:35.963659Z",
     "iopub.status.busy": "2025-03-07T04:57:35.963316Z",
     "iopub.status.idle": "2025-03-07T04:57:36.023517Z",
     "shell.execute_reply": "2025-03-07T04:57:36.022771Z"
    },
    "id": "6tOGme8F7dwf",
    "papermill": {
     "duration": 0.077097,
     "end_time": "2025-03-07T04:57:36.024764",
     "exception": false,
     "start_time": "2025-03-07T04:57:35.947667",
     "status": "completed"
    },
    "tags": []
   },
   "outputs": [
    {
     "data": {
      "text/html": [
       "<div>\n",
       "<style scoped>\n",
       "    .dataframe tbody tr th:only-of-type {\n",
       "        vertical-align: middle;\n",
       "    }\n",
       "\n",
       "    .dataframe tbody tr th {\n",
       "        vertical-align: top;\n",
       "    }\n",
       "\n",
       "    .dataframe thead th {\n",
       "        text-align: right;\n",
       "    }\n",
       "</style>\n",
       "<table border=\"1\" class=\"dataframe\">\n",
       "  <thead>\n",
       "    <tr style=\"text-align: right;\">\n",
       "      <th></th>\n",
       "      <th>action_type</th>\n",
       "      <th>count</th>\n",
       "    </tr>\n",
       "    <tr>\n",
       "      <th>action_type</th>\n",
       "      <th></th>\n",
       "      <th></th>\n",
       "    </tr>\n",
       "  </thead>\n",
       "  <tbody>\n",
       "    <tr>\n",
       "      <th>0</th>\n",
       "      <td>0</td>\n",
       "      <td>9188104</td>\n",
       "    </tr>\n",
       "    <tr>\n",
       "      <th>1</th>\n",
       "      <td>1</td>\n",
       "      <td>14725</td>\n",
       "    </tr>\n",
       "    <tr>\n",
       "      <th>2</th>\n",
       "      <td>2</td>\n",
       "      <td>1223354</td>\n",
       "    </tr>\n",
       "    <tr>\n",
       "      <th>3</th>\n",
       "      <td>3</td>\n",
       "      <td>156450</td>\n",
       "    </tr>\n",
       "  </tbody>\n",
       "</table>\n",
       "</div>"
      ],
      "text/plain": [
       "             action_type    count\n",
       "action_type                      \n",
       "0                      0  9188104\n",
       "1                      1    14725\n",
       "2                      2  1223354\n",
       "3                      3   156450"
      ]
     },
     "execution_count": 32,
     "metadata": {},
     "output_type": "execute_result"
    }
   ],
   "source": [
    "# plot을 그리기 위한 데이터프레임 생성 (Black Friday)\n",
    "df_black2 = df_black['action_type'].value_counts().sort_index().to_frame()\n",
    "df_black2 = df_black2.rename(columns={'action_type':'count'})\n",
    "df_black2.insert(loc=0, column='action_type', value=[0, 1, 2, 3])\n",
    "df_black2"
   ]
  },
  {
   "cell_type": "code",
   "execution_count": 33,
   "id": "0540d949",
   "metadata": {
    "execution": {
     "iopub.execute_input": "2025-03-07T04:57:36.054864Z",
     "iopub.status.busy": "2025-03-07T04:57:36.054629Z",
     "iopub.status.idle": "2025-03-07T04:57:36.217117Z",
     "shell.execute_reply": "2025-03-07T04:57:36.216189Z"
    },
    "id": "_XngSuUN7mZl",
    "papermill": {
     "duration": 0.179103,
     "end_time": "2025-03-07T04:57:36.218570",
     "exception": false,
     "start_time": "2025-03-07T04:57:36.039467",
     "status": "completed"
    },
    "tags": []
   },
   "outputs": [
    {
     "data": {
      "image/png": "[encoded data removed]",
      "text/plain": [
       "<Figure size 640x480 with 1 Axes>"
      ]
     },
     "metadata": {},
     "output_type": "display_data"
    }
   ],
   "source": [
    "plt.ticklabel_format(style='plain')\n",
    "bars_bf = plt.bar(df_black2['action_type'], df_black2['count'], color='black', alpha=0.7)\n",
    "plt.xlabel('Action Type')\n",
    "plt.ylabel('Count (Only Black Friday)')\n",
    "plt.title('Count of Action Types in Black Friday')\n",
    "plt.xticks([0, 1, 2, 3])\n",
    "plt.ylim([0, 9700000]) \n",
    "\n",
    "for bar, count in zip(bars_bf, df_black2['count']):\n",
    "    plt.text(bar.get_x() + bar.get_width() / 2, bar.get_height() + 0.05, str(count), ha='center', va='bottom')"
   ]
  },
  {
   "cell_type": "markdown",
   "id": "9987a9f0",
   "metadata": {
    "id": "rTqdyEUe7W_3",
    "papermill": {
     "duration": 0.014919,
     "end_time": "2025-03-07T04:57:36.249110",
     "exception": false,
     "start_time": "2025-03-07T04:57:36.234191",
     "status": "completed"
    },
    "tags": []
   },
   "source": [
    "평상시의 action type별 count plot"
   ]
  },
  {
   "cell_type": "code",
   "execution_count": 34,
   "id": "680f9418",
   "metadata": {
    "execution": {
     "iopub.execute_input": "2025-03-07T04:57:36.279804Z",
     "iopub.status.busy": "2025-03-07T04:57:36.279570Z",
     "iopub.status.idle": "2025-03-07T04:57:36.288271Z",
     "shell.execute_reply": "2025-03-07T04:57:36.287440Z"
    },
    "id": "ldgx78om7H0m",
    "papermill": {
     "duration": 0.025395,
     "end_time": "2025-03-07T04:57:36.289487",
     "exception": false,
     "start_time": "2025-03-07T04:57:36.264092",
     "status": "completed"
    },
    "tags": []
   },
   "outputs": [
    {
     "name": "stderr",
     "output_type": "stream",
     "text": [
      "<ipython-input-34-dd36320ce949>:4: FutureWarning: ChainedAssignmentError: behaviour will change in pandas 3.0!\n",
      "You are setting values through chained assignment. Currently this works in certain cases, but when using Copy-on-Write (which will become the default behaviour in pandas 3.0) this will never work to update the original DataFrame or Series, because the intermediate object on which we are setting values will behave as a copy.\n",
      "A typical example is when you are setting values in a column of a DataFrame, like:\n",
      "\n",
      "df[\"col\"][row_indexer] = value\n",
      "\n",
      "Use `df.loc[row_indexer, \"col\"] = values` instead, to perform the assignment in a single step and ensure this keeps updating the original `df`.\n",
      "\n",
      "See the caveats in the documentation: https://pandas.pydata.org/pandas-docs/stable/user_guide/indexing.html#returning-a-view-versus-a-copy\n",
      "\n",
      "  compare_df['average'][i] = int(compare_df['average'][i]/30)\n"
     ]
    },
    {
     "data": {
      "text/html": [
       "<div>\n",
       "<style scoped>\n",
       "    .dataframe tbody tr th:only-of-type {\n",
       "        vertical-align: middle;\n",
       "    }\n",
       "\n",
       "    .dataframe tbody tr th {\n",
       "        vertical-align: top;\n",
       "    }\n",
       "\n",
       "    .dataframe thead th {\n",
       "        text-align: right;\n",
       "    }\n",
       "</style>\n",
       "<table border=\"1\" class=\"dataframe\">\n",
       "  <thead>\n",
       "    <tr style=\"text-align: right;\">\n",
       "      <th></th>\n",
       "      <th>action_type</th>\n",
       "      <th>average</th>\n",
       "    </tr>\n",
       "  </thead>\n",
       "  <tbody>\n",
       "    <tr>\n",
       "      <th>0</th>\n",
       "      <td>0</td>\n",
       "      <td>180547</td>\n",
       "    </tr>\n",
       "    <tr>\n",
       "      <th>1</th>\n",
       "      <td>1</td>\n",
       "      <td>127</td>\n",
       "    </tr>\n",
       "    <tr>\n",
       "      <th>2</th>\n",
       "      <td>2</td>\n",
       "      <td>11009</td>\n",
       "    </tr>\n",
       "    <tr>\n",
       "      <th>3</th>\n",
       "      <td>3</td>\n",
       "      <td>11983</td>\n",
       "    </tr>\n",
       "  </tbody>\n",
       "</table>\n",
       "</div>"
      ],
      "text/plain": [
       "   action_type  average\n",
       "0            0   180547\n",
       "1            1      127\n",
       "2            2    11009\n",
       "3            3    11983"
      ]
     },
     "execution_count": 34,
     "metadata": {},
     "output_type": "execute_result"
    }
   ],
   "source": [
    "# plot을 그리기 위한 데이터프레임 생성 (평상시)\n",
    "compare_df = pd.DataFrame(list(action_type_counts.items()), columns=[\"action_type\", \"average\"])\n",
    "for i in range(0, 4):\n",
    "    compare_df['average'][i] = int(compare_df['average'][i]/30)\n",
    "compare_df"
   ]
  },
  {
   "cell_type": "code",
   "execution_count": 35,
   "id": "42006463",
   "metadata": {
    "execution": {
     "iopub.execute_input": "2025-03-07T04:57:36.320453Z",
     "iopub.status.busy": "2025-03-07T04:57:36.320218Z",
     "iopub.status.idle": "2025-03-07T04:57:36.484823Z",
     "shell.execute_reply": "2025-03-07T04:57:36.483961Z"
    },
    "id": "MhCxxfb_7Var",
    "papermill": {
     "duration": 0.181672,
     "end_time": "2025-03-07T04:57:36.486167",
     "exception": false,
     "start_time": "2025-03-07T04:57:36.304495",
     "status": "completed"
    },
    "tags": []
   },
   "outputs": [
    {
     "data": {
      "image/png": "[encoded data removed]",
      "text/plain": [
       "<Figure size 640x480 with 1 Axes>"
      ]
     },
     "metadata": {},
     "output_type": "display_data"
    }
   ],
   "source": [
    "bars_normal = plt.bar(compare_df['action_type'], compare_df['average'], color='firebrick', alpha=0.7)\n",
    "plt.xlabel('Action Type')\n",
    "plt.ylabel('Average Count (n=30)')\n",
    "plt.title('Average count of Action Types in Ordinary Days')\n",
    "plt.xticks([0, 1, 2, 3])\n",
    "plt.ylim([0, 9700000]) \n",
    "\n",
    "for bar, count in zip(bars_normal, compare_df['average']):\n",
    "    plt.text(bar.get_x() + bar.get_width() / 2, bar.get_height() + 0.05, str(count), ha='center', va='bottom')"
   ]
  },
  {
   "cell_type": "markdown",
   "id": "6c97c0fe",
   "metadata": {
    "id": "pETVKMEd8TaG",
    "papermill": {
     "duration": 0.015464,
     "end_time": "2025-03-07T04:57:36.517928",
     "exception": false,
     "start_time": "2025-03-07T04:57:36.502464",
     "status": "completed"
    },
    "tags": []
   },
   "source": [
    "### 4) Black Friday와 평상시의 action type count 변동률"
   ]
  },
  {
   "cell_type": "code",
   "execution_count": 36,
   "id": "a9fab823",
   "metadata": {
    "execution": {
     "iopub.execute_input": "2025-03-07T04:57:36.549958Z",
     "iopub.status.busy": "2025-03-07T04:57:36.549702Z",
     "iopub.status.idle": "2025-03-07T04:57:36.556255Z",
     "shell.execute_reply": "2025-03-07T04:57:36.555617Z"
    },
    "id": "S6HSy-4s8Xhn",
    "papermill": {
     "duration": 0.023958,
     "end_time": "2025-03-07T04:57:36.557432",
     "exception": false,
     "start_time": "2025-03-07T04:57:36.533474",
     "status": "completed"
    },
    "tags": []
   },
   "outputs": [
    {
     "name": "stdout",
     "output_type": "stream",
     "text": [
      "** rateofchange between Black Friday and ordinary days **\n",
      "click: 4989%\n",
      "add-to-cart: 11494%\n",
      "purchase: 11012%\n",
      "add-to-favorite: 1205%\n"
     ]
    }
   ],
   "source": [
    "click_rateofchange = ((df_black2['count'][0] - compare_df['average'][0]) / (compare_df['average'][0])) * 100\n",
    "add_to_cart_rateofchange = ((df_black2['count'][1] - compare_df['average'][1]) / (compare_df['average'][1])) * 100\n",
    "purchase_rateofchange = ((df_black2['count'][2] - compare_df['average'][2]) / (compare_df['average'][2])) * 100\n",
    "add_to_favorite_rateofchange = ((df_black2['count'][3] - compare_df['average'][3]) / (compare_df['average'][3])) * 100\n",
    "\n",
    "print('** rateofchange between Black Friday and ordinary days **')\n",
    "print('click: %d%%' % click_rateofchange)\n",
    "print('add-to-cart: %d%%' % add_to_cart_rateofchange)\n",
    "print('purchase: %d%%' % purchase_rateofchange)\n",
    "print('add-to-favorite: %d%%' % add_to_favorite_rateofchange)"
   ]
  }
 ],
 "metadata": {
  "accelerator": "GPU",
  "colab": {
   "gpuType": "T4",
   "provenance": []
  },
  "kaggle": {
   "accelerator": "none",
   "dataSources": [],
   "dockerImageVersionId": 30919,
   "isGpuEnabled": false,
   "isInternetEnabled": true,
   "language": "python",
   "sourceType": "notebook"
  },
  "kernelspec": {
   "display_name": "Python 3",
   "language": "python",
   "name": "python3"
  },
  "language_info": {
   "codemirror_mode": {
    "name": "ipython",
    "version": 3
   },
   "file_extension": ".py",
   "mimetype": "text/x-python",
   "name": "python",
   "nbconvert_exporter": "python",
   "pygments_lexer": "ipython3",
   "version": "3.10.12"
  },
  "papermill": {
   "default_parameters": {},
   "duration": 152.248704,
   "end_time": "2025-03-07T04:57:37.291301",
   "environment_variables": {},
   "exception": null,
   "input_path": "__notebook__.ipynb",
   "output_path": "__notebook__.ipynb",
   "parameters": {},
   "start_time": "2025-03-07T04:55:05.042597",
   "version": "2.6.0"
  }
 },
 "nbformat": 4,
 "nbformat_minor": 5
}
